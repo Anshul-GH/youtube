{
 "cells": [
  {
   "cell_type": "code",
   "execution_count": 2,
   "metadata": {},
   "outputs": [],
   "source": [
    "def arr_contains_duplicates(arr):\n",
    "    arr_uniq = list(set(arr))\n",
    "    if len(arr_uniq) == len(arr):\n",
    "        return False\n",
    "    else:\n",
    "        return True"
   ]
  },
  {
   "cell_type": "code",
   "execution_count": 5,
   "metadata": {},
   "outputs": [
    {
     "name": "stdout",
     "output_type": "stream",
     "text": [
      "True\n"
     ]
    }
   ],
   "source": [
    "# nums = [1,2,3,1]\n",
    "# nums = [1,2,3,4]\n",
    "nums = [1,1,1,3,3,4,3,2,4,2]\n",
    "flag = arr_contains_duplicates(nums)\n",
    "print(flag)"
   ]
  },
  {
   "cell_type": "code",
   "execution_count": 10,
   "metadata": {},
   "outputs": [
    {
     "name": "stdout",
     "output_type": "stream",
     "text": [
      "False\n"
     ]
    }
   ],
   "source": [
    "nums = [i for i in range(1,105)]\n",
    "flag = arr_contains_duplicates(nums)\n",
    "print(flag)"
   ]
  },
  {
   "cell_type": "code",
   "execution_count": 13,
   "metadata": {},
   "outputs": [
    {
     "name": "stdout",
     "output_type": "stream",
     "text": [
      "True\n"
     ]
    }
   ],
   "source": [
    "from random import randint\n",
    "nums = [randint(-109, 109) for i in range(1,105)]\n",
    "\n",
    "flag = arr_contains_duplicates(nums)\n",
    "print(flag)"
   ]
  },
  {
   "cell_type": "code",
   "execution_count": 15,
   "metadata": {},
   "outputs": [
    {
     "data": {
      "text/plain": [
       "[-72,\n",
       " 18,\n",
       " 22,\n",
       " 3,\n",
       " 94,\n",
       " -40,\n",
       " 12,\n",
       " -24,\n",
       " -109,\n",
       " 54,\n",
       " -74,\n",
       " 24,\n",
       " 98,\n",
       " 93,\n",
       " 95,\n",
       " 106,\n",
       " -18,\n",
       " -21,\n",
       " 14,\n",
       " -76]"
      ]
     },
     "execution_count": 15,
     "metadata": {},
     "output_type": "execute_result"
    }
   ],
   "source": [
    "nums[:20]"
   ]
  },
  {
   "cell_type": "code",
   "execution_count": 3,
   "metadata": {},
   "outputs": [],
   "source": [
    "def find_intersection(nums1, nums2):\n",
    "    len1 = len(nums1)\n",
    "    len2 = len(nums2)\n",
    "\n",
    "    intersect = []\n",
    "\n",
    "    if len1 < len2:\n",
    "        for val in nums1:\n",
    "            if val in nums2:\n",
    "                intersect.append(val)\n",
    "                nums2.remove(val)\n",
    "    else:\n",
    "        for val in nums2:\n",
    "            if val in nums1:\n",
    "                intersect.append(val)\n",
    "                nums1.remove(val)\n",
    "\n",
    "    return intersect\n"
   ]
  },
  {
   "cell_type": "code",
   "execution_count": 5,
   "metadata": {},
   "outputs": [
    {
     "name": "stdout",
     "output_type": "stream",
     "text": [
      "[4, 9]\n"
     ]
    }
   ],
   "source": [
    "# lst1 = [1,2,2,1]\n",
    "# lst2 = [2,2]\n",
    "\n",
    "lst1 = [4,9,5]\n",
    "lst2 = [9,4,9,8,4]\n",
    "\n",
    "\n",
    "# lst1.remove.__doc__\n",
    "print(find_intersection(lst1, lst2))"
   ]
  },
  {
   "cell_type": "code",
   "execution_count": 6,
   "metadata": {},
   "outputs": [],
   "source": [
    "from random import randint\n",
    "\n",
    "arr1 = [randint(1, 1001) for i in range(1, 1001)]\n",
    "arr2 = [randint(1, 1001) for i in range(1, 1001)]"
   ]
  },
  {
   "cell_type": "code",
   "execution_count": 7,
   "metadata": {},
   "outputs": [
    {
     "name": "stdout",
     "output_type": "stream",
     "text": [
      "[163, 256, 58, 655, 786, 407, 236, 410, 794, 628, 936, 41, 760, 955, 418, 397, 937, 489, 311, 372, 781, 691, 269, 922, 637, 305, 84, 904, 338, 27, 18, 979, 832, 924, 574, 545, 510, 462, 262, 854, 682, 180, 675, 346, 74, 170, 589, 844, 557, 465, 41, 836, 572, 608, 767, 21, 486, 94, 976, 178, 164, 570, 675, 460, 139, 739, 226, 567, 536, 985, 489, 593, 789, 260, 458, 94, 325, 199, 694, 793, 101, 294, 642, 993, 699, 990, 956, 413, 117, 43, 254, 496, 638, 147, 799, 808, 516, 631, 566, 389, 484, 983, 544, 782, 820, 945, 379, 74, 522, 186, 788, 355, 805, 492, 383, 284, 384, 96, 258, 570, 782, 635, 755, 442, 805, 901, 134, 469, 107, 848, 597, 517, 485, 209, 930, 530, 318, 514, 268, 243, 358, 719, 866, 281, 100, 801, 299, 643, 875, 104, 907, 987, 96, 756, 494, 724, 428, 627, 931, 24, 851, 556, 287, 862, 229, 585, 412, 1000, 90, 192, 812, 26, 755, 93, 609, 717, 905, 39, 86, 855, 560, 726, 173, 184, 811, 100, 585, 392, 257, 983, 760, 771, 591, 804, 375, 331, 390, 877, 987, 71, 326, 427, 837, 876, 864, 173, 895, 546, 729, 573, 455, 469, 566, 674, 856, 161, 306, 46, 32, 941, 304, 801, 615, 534, 777, 732, 760, 565, 479, 45, 651, 772, 226, 316, 357, 310, 694, 251, 516, 373, 660, 29, 640, 239, 725, 444, 197, 81, 999, 926, 918, 311, 704, 709, 30, 168, 825, 315, 380, 606, 80, 377, 892, 553, 739, 807, 138, 356, 827, 290, 852, 204, 291, 442, 476, 898, 974, 241, 939, 63, 497, 832, 839, 1, 60, 53, 693, 589, 88, 660, 568, 555, 175, 448, 559, 477, 353, 357, 165, 920, 723, 88, 152, 655, 135, 189, 999, 999, 408, 327, 348, 203, 471, 954, 967, 833, 347, 462, 631, 69, 190, 347, 725, 706, 376, 366, 238, 714, 611, 79, 153, 136, 669, 311, 894, 362, 378, 898, 740, 26, 765, 202, 68, 684, 840, 562, 532, 38, 24, 323, 710, 931, 110, 646, 667, 743, 628, 837, 645, 118, 906, 935, 601, 336, 791, 16, 422, 171, 213, 65, 302, 5, 645, 687, 709, 728, 203, 897, 173, 720, 263, 193, 968, 812, 109, 982, 911, 848, 242, 631, 224, 225, 971, 337, 178, 715, 56, 881, 812, 991, 44, 17, 485, 509, 537, 5, 199, 42, 728, 118, 672, 733, 754, 600, 416, 609, 324, 837, 707, 560, 386, 14, 622, 15, 149, 344, 681, 967, 359, 224, 957, 388, 201, 714, 667, 713, 454, 184, 350, 546, 400, 753, 538, 216, 607, 569, 684, 73, 578, 867, 932, 207, 56, 427, 470, 833, 940, 571, 54, 267, 830, 857, 368, 550, 558, 716, 598, 411, 732, 800]\n"
     ]
    }
   ],
   "source": [
    "print(find_intersection(arr1, arr2))"
   ]
  },
  {
   "cell_type": "code",
   "execution_count": 9,
   "metadata": {},
   "outputs": [],
   "source": [
    "nums = [0,1,0,3,12]\n",
    "\n",
    "# nums.sort.__doc__\n",
    "\n",
    "nums.sort(key=lambda x:x==0)"
   ]
  },
  {
   "cell_type": "code",
   "execution_count": 10,
   "metadata": {},
   "outputs": [
    {
     "data": {
      "text/plain": [
       "[1, 3, 12, 0, 0]"
      ]
     },
     "execution_count": 10,
     "metadata": {},
     "output_type": "execute_result"
    }
   ],
   "source": [
    "nums"
   ]
  },
  {
   "cell_type": "code",
   "execution_count": 11,
   "metadata": {},
   "outputs": [
    {
     "name": "stdout",
     "output_type": "stream",
     "text": [
      "[False, False, False, True, True]\n"
     ]
    }
   ],
   "source": [
    "nums=[True, False, True, False, False]\n",
    "nums.sort()\n",
    "print(nums)"
   ]
  },
  {
   "cell_type": "code",
   "execution_count": 12,
   "metadata": {},
   "outputs": [],
   "source": [
    "def add_one(arr):\n",
    "    # routine scenario    \n",
    "    if arr[-1] < 9:\n",
    "        arr[-1] += 1\n",
    "        return arr\n",
    "    else:\n",
    "        # reverse the array\n",
    "        rev = arr[::-1]\n",
    "        int_num = 0\n",
    "        dec = 0\n",
    "\n",
    "        for num in rev:\n",
    "            int_num += num * (10**dec)\n",
    "            dec += 1\n",
    "\n",
    "        # perform the increment\n",
    "        int_num += 1\n",
    "\n",
    "        # convert number into a list\n",
    "        new_arr = str(int_num)\n",
    "        new_arr = [int(digit) for digit in new_arr]\n",
    "\n",
    "        return new_arr "
   ]
  },
  {
   "cell_type": "code",
   "execution_count": 18,
   "metadata": {},
   "outputs": [
    {
     "name": "stdout",
     "output_type": "stream",
     "text": [
      "[7, 9, 0]\n"
     ]
    }
   ],
   "source": [
    "# digits = [1,2,3]\n",
    "# digits = [4,3,2,1]\n",
    "# digits = [0]\n",
    "digits = [7,8,9]\n",
    "print(add_one(digits))"
   ]
  },
  {
   "cell_type": "code",
   "execution_count": null,
   "metadata": {},
   "outputs": [],
   "source": []
  }
 ],
 "metadata": {
  "interpreter": {
   "hash": "916dbcbb3f70747c44a77c7bcd40155683ae19c65e1c03b4aa3499c5328201f1"
  },
  "kernelspec": {
   "display_name": "Python 3.9.5 64-bit",
   "language": "python",
   "name": "python3"
  },
  "language_info": {
   "codemirror_mode": {
    "name": "ipython",
    "version": 3
   },
   "file_extension": ".py",
   "mimetype": "text/x-python",
   "name": "python",
   "nbconvert_exporter": "python",
   "pygments_lexer": "ipython3",
   "version": "3.8.8"
  },
  "orig_nbformat": 4
 },
 "nbformat": 4,
 "nbformat_minor": 2
}
