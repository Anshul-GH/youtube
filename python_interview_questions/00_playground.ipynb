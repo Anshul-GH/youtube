{
 "cells": [
  {
   "cell_type": "code",
   "execution_count": 2,
   "metadata": {},
   "outputs": [],
   "source": [
    "def arr_contains_duplicates(arr):\n",
    "    arr_uniq = list(set(arr))\n",
    "    if len(arr_uniq) == len(arr):\n",
    "        return False\n",
    "    else:\n",
    "        return True"
   ]
  },
  {
   "cell_type": "code",
   "execution_count": 5,
   "metadata": {},
   "outputs": [
    {
     "name": "stdout",
     "output_type": "stream",
     "text": [
      "True\n"
     ]
    }
   ],
   "source": [
    "# nums = [1,2,3,1]\n",
    "# nums = [1,2,3,4]\n",
    "nums = [1,1,1,3,3,4,3,2,4,2]\n",
    "flag = arr_contains_duplicates(nums)\n",
    "print(flag)"
   ]
  },
  {
   "cell_type": "code",
   "execution_count": 10,
   "metadata": {},
   "outputs": [
    {
     "name": "stdout",
     "output_type": "stream",
     "text": [
      "False\n"
     ]
    }
   ],
   "source": [
    "nums = [i for i in range(1,105)]\n",
    "flag = arr_contains_duplicates(nums)\n",
    "print(flag)"
   ]
  },
  {
   "cell_type": "code",
   "execution_count": 13,
   "metadata": {},
   "outputs": [
    {
     "name": "stdout",
     "output_type": "stream",
     "text": [
      "True\n"
     ]
    }
   ],
   "source": [
    "from random import randint\n",
    "nums = [randint(-109, 109) for i in range(1,105)]\n",
    "\n",
    "flag = arr_contains_duplicates(nums)\n",
    "print(flag)"
   ]
  },
  {
   "cell_type": "code",
   "execution_count": 15,
   "metadata": {},
   "outputs": [
    {
     "data": {
      "text/plain": [
       "[-72,\n",
       " 18,\n",
       " 22,\n",
       " 3,\n",
       " 94,\n",
       " -40,\n",
       " 12,\n",
       " -24,\n",
       " -109,\n",
       " 54,\n",
       " -74,\n",
       " 24,\n",
       " 98,\n",
       " 93,\n",
       " 95,\n",
       " 106,\n",
       " -18,\n",
       " -21,\n",
       " 14,\n",
       " -76]"
      ]
     },
     "execution_count": 15,
     "metadata": {},
     "output_type": "execute_result"
    }
   ],
   "source": [
    "nums[:20]"
   ]
  },
  {
   "cell_type": "code",
   "execution_count": null,
   "metadata": {},
   "outputs": [],
   "source": []
  }
 ],
 "metadata": {
  "interpreter": {
   "hash": "916dbcbb3f70747c44a77c7bcd40155683ae19c65e1c03b4aa3499c5328201f1"
  },
  "kernelspec": {
   "display_name": "Python 3.9.5 64-bit",
   "language": "python",
   "name": "python3"
  },
  "language_info": {
   "codemirror_mode": {
    "name": "ipython",
    "version": 3
   },
   "file_extension": ".py",
   "mimetype": "text/x-python",
   "name": "python",
   "nbconvert_exporter": "python",
   "pygments_lexer": "ipython3",
   "version": "3.8.8"
  },
  "orig_nbformat": 4
 },
 "nbformat": 4,
 "nbformat_minor": 2
}
